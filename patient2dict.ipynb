{
 "cells": [
  {
   "cell_type": "markdown",
   "metadata": {},
   "source": [
    "### import library"
   ]
  },
  {
   "cell_type": "code",
   "execution_count": null,
   "metadata": {},
   "outputs": [],
   "source": [
    "import numpy as np\n",
    "import pandas as pd\n",
    "import os\n",
    "import time\n",
    "from collections import Counter\n",
    "import pickle"
   ]
  },
  {
   "cell_type": "markdown",
   "metadata": {},
   "source": [
    "### define the data path, input data file and output directory"
   ]
  },
  {
   "cell_type": "code",
   "execution_count": null,
   "metadata": {},
   "outputs": [],
   "source": [
    "datapath = 'put the directory of your data'\n",
    "enc_file = 'lung_encall.txt'\n",
    "diag_file = 'lung_diagnosis.txt'\n",
    "med_file = 'lung_medication.txt'\n",
    "surg_file = 'lung_surgical.txt'\n",
    "\n",
    "OUTPATH = os.path.join(datapath, 'matching')\n",
    "if not os.path.exists(OUTPATH):\n",
    "    os.makedirs(OUTPATH)\n",
    "    "
   ]
  },
  {
   "cell_type": "code",
   "execution_count": null,
   "metadata": {},
   "outputs": [],
   "source": [
    "### read encounter\n",
    "enc_df = pd.read_csv(\n",
    "    os.path.join(datapath, enc_file)\n",
    "    , sep='\\t'\n",
    "    , usecols=['patient_sk', 'encounter_id', 'gender', 'race', \n",
    "              'marital_status', 'yob', 'admitted_dt_tm', 'discharged_dt_tm'\n",
    "              , 'patient_type_desc', 'dischg_disp_code_desc', 'hospital_id'\n",
    "              , 'census_region', 'census_division', 'bed_size_range'\n",
    "               , 'urban_rural_status', 'alt_health_system_id']\n",
    "    , parse_dates=['admitted_dt_tm', 'discharged_dt_tm']\n",
    ")\n"
   ]
  },
  {
   "cell_type": "code",
   "execution_count": null,
   "metadata": {},
   "outputs": [],
   "source": [
    "enc_df.head()"
   ]
  },
  {
   "cell_type": "code",
   "execution_count": null,
   "metadata": {},
   "outputs": [],
   "source": [
    "enc_hospital_groupby = enc_df.groupby('patient_sk')['hospital_id']"
   ]
  },
  {
   "cell_type": "code",
   "execution_count": null,
   "metadata": {},
   "outputs": [],
   "source": [
    "psk_hid_dict = {}\n",
    "for k,v in enc_hospital_groupby:\n",
    "    most_common = Counter(v).most_common(1)\n",
    "    if len(most_common) == 1:\n",
    "        psk_hid_dict[k] = most_common[0][0]"
   ]
  },
  {
   "cell_type": "code",
   "execution_count": null,
   "metadata": {},
   "outputs": [],
   "source": [
    "len(psk_hid_dict)"
   ]
  },
  {
   "cell_type": "code",
   "execution_count": null,
   "metadata": {},
   "outputs": [],
   "source": [
    "psk_hid_s = pd.Series(psk_hid_dict, name='hospital_id')\n",
    "psk_hid_s.index.name = 'patient_sk'\n",
    "psk_hid_df = psk_hid_s.reset_index()"
   ]
  },
  {
   "cell_type": "code",
   "execution_count": null,
   "metadata": {},
   "outputs": [],
   "source": [
    "psk_hid_df.to_csv(os.path.join(OUTPATH, 'psk_hospit.tsv'), sep='\\t', index=False)"
   ]
  },
  {
   "cell_type": "code",
   "execution_count": null,
   "metadata": {},
   "outputs": [],
   "source": [
    "### extract hospital information from encounter table\n",
    "hospital_df = enc_df.loc[:, ['hospital_id'\n",
    "              , 'census_region', 'census_division', 'bed_size_range'\n",
    "               , 'urban_rural_status', 'alt_health_system_id']].drop_duplicates()"
   ]
  },
  {
   "cell_type": "code",
   "execution_count": null,
   "metadata": {},
   "outputs": [],
   "source": [
    "hospital_df.to_csv(os.path.join(OUTPATH, 'hospital_info.tsv'), sep='\\t', index=False)"
   ]
  },
  {
   "cell_type": "markdown",
   "metadata": {},
   "source": [
    "### read diagnosis"
   ]
  },
  {
   "cell_type": "code",
   "execution_count": null,
   "metadata": {},
   "outputs": [],
   "source": [
    "\n",
    "diag_df = pd.read_csv(\n",
    "    os.path.join(datapath, diag_file)\n",
    "    , sep='\\t'\n",
    "    , usecols=['patient_sk', 'encounter_id', 'diagnosis_id'\n",
    "               , 'diagnosis_type', 'diagnosis_code'\n",
    "               #, 'diagnosis_description', 'diagnosis_type_display'\n",
    "              ])"
   ]
  },
  {
   "cell_type": "code",
   "execution_count": null,
   "metadata": {},
   "outputs": [],
   "source": [
    "diag_df.shape"
   ]
  },
  {
   "cell_type": "code",
   "execution_count": null,
   "metadata": {},
   "outputs": [],
   "source": [
    "diag_df = diag_df.dropna()"
   ]
  },
  {
   "cell_type": "code",
   "execution_count": null,
   "metadata": {},
   "outputs": [],
   "source": [
    "diag_df.shape"
   ]
  },
  {
   "cell_type": "code",
   "execution_count": null,
   "metadata": {},
   "outputs": [],
   "source": [
    "### read medication\n",
    "med_df = pd.read_csv(\n",
    "    os.path.join(datapath, med_file)\n",
    "    , sep='\\t'\n",
    "    , usecols=['patient_sk', 'encounter_id', 'medication_id', 'ndc_code', 'brand_name',\n",
    "       'generic_name'])"
   ]
  },
  {
   "cell_type": "code",
   "execution_count": null,
   "metadata": {},
   "outputs": [],
   "source": [
    "med_df.head()"
   ]
  },
  {
   "cell_type": "code",
   "execution_count": null,
   "metadata": {},
   "outputs": [],
   "source": [
    "### read surgical\n",
    "surg_df = pd.read_csv(\n",
    "    os.path.join(datapath, surg_file)\n",
    "    , sep='\\t'\n",
    "    , usecols=['patient_sk', 'encounter_id', 'surgical_procedure_id',\n",
    "       'surgical_procedure_desc', 'icd9_code'])"
   ]
  },
  {
   "cell_type": "code",
   "execution_count": null,
   "metadata": {},
   "outputs": [],
   "source": [
    "surg_df.head()"
   ]
  },
  {
   "cell_type": "code",
   "execution_count": null,
   "metadata": {},
   "outputs": [],
   "source": [
    "### extract demographic from encounter table\n",
    "demo_df = enc_df.loc[:, ['patient_sk', 'gender', 'race', \n",
    "              'marital_status', 'yob']].drop_duplicates()"
   ]
  },
  {
   "cell_type": "code",
   "execution_count": null,
   "metadata": {},
   "outputs": [],
   "source": [
    "print(demo_df.shape)\n",
    "#print(demo_hsptl_df.shape)"
   ]
  },
  {
   "cell_type": "code",
   "execution_count": null,
   "metadata": {},
   "outputs": [],
   "source": [
    "### convert demographic dataframe to dictionary\n",
    "patients = demo_df.to_dict(orient='records')"
   ]
  },
  {
   "cell_type": "code",
   "execution_count": null,
   "metadata": {},
   "outputs": [],
   "source": [
    "enc_dict = {k:v for k,v in enc_df.groupby('patient_sk')}\n",
    "diag_dict = {k:v for k,v in diag_df.groupby('encounter_id')}\n",
    "med_dict = {k:v for k,v in med_df.groupby('encounter_id')}\n",
    "surg_dict = {k:v for k,v in surg_df.groupby('encounter_id')}"
   ]
  },
  {
   "cell_type": "markdown",
   "metadata": {},
   "source": [
    "### extract features for each patient"
   ]
  },
  {
   "cell_type": "code",
   "execution_count": null,
   "metadata": {},
   "outputs": [],
   "source": [
    "from tqdm import tqdm_notebook as tqdm\n",
    "\n",
    "for patient in tqdm(patients):\n",
    "    psk = patient['patient_sk']\n",
    "    encs = enc_dict[psk].sort_values(\n",
    "        by='discharged_dt_tm'\n",
    "        , ascending=True).loc[:, ['encounter_id', 'discharged_dt_tm'\n",
    "                                  , 'patient_type_desc', 'bed_size_range'\n",
    "                                  , 'dischg_disp_code_desc']].to_dict(orient='records')\n",
    "    for enc in encs:\n",
    "        encid = enc['encounter_id']\n",
    "        diags = diag_dict.get(encid)\n",
    "        if diags is not None:\n",
    "            enc['DIAGNOSIS'] = diags.loc[\n",
    "            :\n",
    "            , ['diagnosis_id', 'diagnosis_type', 'diagnosis_code']].to_dict(orient='records')\n",
    "        meds = med_dict.get(encid)\n",
    "        if meds is not None:\n",
    "            enc['MEDICATION'] = meds.loc[\n",
    "            :\n",
    "            , ['medication_id', 'ndc_code', 'brand_name', 'generic_name']].to_dict(orient='records')\n",
    "        surgs = surg_dict.get(encid)\n",
    "        if surgs is not None:\n",
    "            enc['SURGICAL'] = surgs.loc[\n",
    "            :\n",
    "            , ['surgical_procedure_id', 'surgical_procedure_desc', 'icd9_code']].to_dict(orient='records')\n",
    "    patient['ENCOUNTER'] = encs"
   ]
  },
  {
   "cell_type": "code",
   "execution_count": null,
   "metadata": {},
   "outputs": [],
   "source": [
    "print('Saving data by pickle')\n",
    "import pickle\n",
    "with open(os.path.join(OUTPATH, 'patients.pickle'), 'wb') as f:\n",
    "    pickle.dump(patients, f, protocol=pickle.HIGHEST_PROTOCOL)\n",
    "    "
   ]
  },
  {
   "cell_type": "code",
   "execution_count": null,
   "metadata": {},
   "outputs": [],
   "source": []
  }
 ],
 "metadata": {
  "hide_input": false,
  "kernelspec": {
   "display_name": "Python 3",
   "language": "python",
   "name": "python3"
  },
  "language_info": {
   "codemirror_mode": {
    "name": "ipython",
    "version": 3
   },
   "file_extension": ".py",
   "mimetype": "text/x-python",
   "name": "python",
   "nbconvert_exporter": "python",
   "pygments_lexer": "ipython3",
   "version": "3.7.6"
  },
  "toc": {
   "base_numbering": 1,
   "nav_menu": {},
   "number_sections": true,
   "sideBar": true,
   "skip_h1_title": false,
   "title_cell": "Table of Contents",
   "title_sidebar": "Contents",
   "toc_cell": false,
   "toc_position": {},
   "toc_section_display": true,
   "toc_window_display": false
  }
 },
 "nbformat": 4,
 "nbformat_minor": 2
}
