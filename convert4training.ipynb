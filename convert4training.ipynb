{
 "cells": [
  {
   "cell_type": "code",
   "execution_count": null,
   "metadata": {},
   "outputs": [],
   "source": [
    "import numpy as np\n",
    "import pandas as pd\n",
    "import os\n",
    "import time\n",
    "import string\n",
    "import pickle"
   ]
  },
  {
   "cell_type": "code",
   "execution_count": null,
   "metadata": {},
   "outputs": [],
   "source": [
    "patients_f = '[the output from pretraining_labeling]'\n",
    "matching_dict_f = '[the output from case_control_matching]'\n",
    "OUTPATH = '[output directory]'"
   ]
  },
  {
   "cell_type": "code",
   "execution_count": null,
   "metadata": {},
   "outputs": [],
   "source": [
    "import pickle\n",
    "\n",
    "with open(patients_f, 'rb') as f:\n",
    "    patients = pickle.load(f)\n",
    "    \n",
    "with open(matching_dict_f, 'rb') as f:\n",
    "    matching_dict = pickle.load(f)"
   ]
  },
  {
   "cell_type": "code",
   "execution_count": null,
   "metadata": {},
   "outputs": [],
   "source": [
    "case_l = []\n",
    "control_l = []\n",
    "for p in patients:\n",
    "    days = (p['final_dt'] - p['lung_dt']).days\n",
    "    if p['label'] == 0:\n",
    "        control_l.append(days)\n",
    "    else:\n",
    "        case_l.append(days)"
   ]
  },
  {
   "cell_type": "markdown",
   "metadata": {},
   "source": [
    "### plot the number of days from lung cancer diagnosis to the last encounter for cases and controls"
   ]
  },
  {
   "cell_type": "code",
   "execution_count": null,
   "metadata": {},
   "outputs": [],
   "source": [
    "import matplotlib.pyplot as plt"
   ]
  },
  {
   "cell_type": "code",
   "execution_count": null,
   "metadata": {},
   "outputs": [],
   "source": [
    "plt.boxplot([case_l, control_l], labels=['Case', 'Control'])\n",
    "plt.ylabel('Number of days')\n",
    "plt.title('The number of days from lung cancer diagnosis to the last encounter')\n",
    "plt.savefig('num_day_distribution.pdf')  "
   ]
  },
  {
   "cell_type": "markdown",
   "metadata": {},
   "source": [
    "### add lab test and clinical event"
   ]
  },
  {
   "cell_type": "code",
   "execution_count": null,
   "metadata": {},
   "outputs": [],
   "source": [
    "lab_test_f = '[the path of lab test features]'\n",
    "   \n",
    "with open(lab_test_f, 'rb') as f:\n",
    "    lab_df = pickle.load(f)\n",
    "lab_dict = {k:v for k,v in lab_df.groupby('encounter_id')}"
   ]
  },
  {
   "cell_type": "code",
   "execution_count": null,
   "metadata": {},
   "outputs": [],
   "source": [
    "event_f = '[the path of clinical event features]'\n",
    "   \n",
    "with open(event_f, 'rb') as f:\n",
    "    event_df = pickle.load(f)\n",
    "event_df = event_df.dropna()\n",
    "event_dict = {k:v for k,v in event_df.groupby('encounter_id')}"
   ]
  },
  {
   "cell_type": "code",
   "execution_count": null,
   "metadata": {},
   "outputs": [],
   "source": [
    "def binage(age):\n",
    "    if age < 0:\n",
    "        return 'A_ERROR'\n",
    "    else:\n",
    "        try:\n",
    "            return 'A_' + string.ascii_uppercase[int(age)//5]\n",
    "        except:\n",
    "            return 'A_ERROR'"
   ]
  },
  {
   "cell_type": "code",
   "execution_count": null,
   "metadata": {},
   "outputs": [],
   "source": [
    "def icd_dict(k=9):\n",
    "    dict_icd = {}\n",
    "    with open('./ICD9CMtoICD10CM/icd9to10dictionary.txt', 'r') as f:\n",
    "        line = f.readline()\n",
    "        while line:\n",
    "            nine = str.strip(line.split('|')[0])\n",
    "            ten = str.strip(line.split('|')[1])\n",
    "            desc = str.strip(line.split('|')[2])\n",
    "            #print(line)\n",
    "            if k==9:\n",
    "                dict_icd[nine] = [ten,desc]\n",
    "            elif k==10:\n",
    "                dict_icd[ten] = [nine, desc]\n",
    "            else:\n",
    "                raise Exception('ICD should be 9 or 10 Version!')\n",
    "            line = f.readline()\n",
    "    return dict_icd\n",
    "icd9_dict = icd_dict()\n",
    "icd9_mismatches = []"
   ]
  },
  {
   "cell_type": "code",
   "execution_count": null,
   "metadata": {},
   "outputs": [],
   "source": [
    "def icd9to10(key):\n",
    "    try:\n",
    "        icd10 = icd9_dict[key][0]\n",
    "    except:\n",
    "        icd10 = key\n",
    "        icd9_mismatches.append(key)\n",
    "    return icd10"
   ]
  },
  {
   "cell_type": "code",
   "execution_count": null,
   "metadata": {},
   "outputs": [],
   "source": [
    "def data_extraction(d, label, dt):\n",
    "    race = 'RACE_' + str(d['race']).lower()\n",
    "    gender = 'GEND_' + str(d['gender']).lower()\n",
    "    mariral_status = 'MARI_' + str(d['marital_status']).lower()\n",
    "    yob = d['yob']\n",
    "    encs = d['ENCOUNTER']\n",
    "    p = []\n",
    "    times = []\n",
    "    last_enc_dt = None\n",
    "    for enc in encs:\n",
    "        if label == 0:\n",
    "            if (enc['discharged_dt_tm'] - dt).days > 30:\n",
    "                break\n",
    "        elif enc['discharged_dt_tm'] >= dt:\n",
    "            break\n",
    "        if 1:\n",
    "            enc_codes = []\n",
    "            diag_codes = []\n",
    "            med_codes = []\n",
    "            surg_codes = []\n",
    "            lab_codes = []\n",
    "            event_codes = []\n",
    "            agecode = binage(enc['discharged_dt_tm'].year - yob)\n",
    "            diags = enc.get('DIAGNOSIS')\n",
    "            if diags is not None:\n",
    "                for diag in diags:\n",
    "                    if diag['diagnosis_type'] == 'ICD9':\n",
    "                        icd_code = 'DIAG_' + str(icd9to10(diag['diagnosis_code'])).upper()\n",
    "                    else:\n",
    "                        icd_code = 'DIAG_' + str(diag['diagnosis_code']).upper()\n",
    "                    diag_codes.append(icd_code)\n",
    "                diag_codes = list(set(diag_codes))\n",
    "                        \n",
    "            meds = enc.get('MEDICATION')\n",
    "            if meds is not None:\n",
    "                med_codes = ['MED_' + med['generic_name'].upper() for med in meds]\n",
    "                med_codes = list(set(med_codes))\n",
    "                #med_codes = []\n",
    "            surgs = enc.get('SURGICAL')\n",
    "            if surgs is not None:\n",
    "                surg_codes = ['SURG_' + str(surg['surgical_procedure_id']).upper() for surg in surgs]\n",
    "                surg_codes = list(set(surg_codes))\n",
    "                #surg_codes = []\n",
    "                \n",
    "            ### extract lab_test\n",
    "            lab_code_tmp = lab_dict.get(enc['encounter_id'])\n",
    "            if lab_code_tmp is not None:\n",
    "                lab_codes = list(set(lab_code_tmp.code_result))\n",
    "                lab_codes = ['LAB_' + str(lab_code_) for lab_code_ in lab_codes]\n",
    "            \n",
    "            ### extract clinical_event\n",
    "            event_tmp = event_dict.get(enc['encounter_id'])\n",
    "            if event_tmp is not None:\n",
    "                event_codes = list(set(event_tmp.code_result))\n",
    "                event_codes = ['EVENT_' + str(event_code_) for event_code_ in event_codes]\n",
    "                \n",
    "            \n",
    "            enc_codes = diag_codes + med_codes + surg_codes + lab_codes + event_codes\n",
    "            #enc_codes = lab_codes + event_codes\n",
    "            #enc_codes = diag_codes\n",
    "            \n",
    "            if enc_codes is None or len(enc_codes) == 0:\n",
    "                continue\n",
    "            \n",
    "            #enc_codes = enc_codes + [race, gender, mariral_status, agecode]\n",
    "            enc_codes = enc_codes + [gender, agecode]\n",
    "            p.append(enc_codes)\n",
    "            \n",
    "            ### calculate time duration\n",
    "            str_dt = str(enc['discharged_dt_tm'])\n",
    "            if last_enc_dt is None:\n",
    "                times.append(0)\n",
    "            else:\n",
    "                if str_dt == 'NaT':\n",
    "                    n_days = np.mean(times)\n",
    "                else:\n",
    "                    n_days = (enc['discharged_dt_tm'] - last_enc_dt).days\n",
    "                times.append(n_days)\n",
    "            if str_dt != 'NaT':\n",
    "                last_enc_dt = enc['discharged_dt_tm']\n",
    "    return p, times"
   ]
  },
  {
   "cell_type": "code",
   "execution_count": null,
   "metadata": {},
   "outputs": [],
   "source": [
    "new_patients = {d['patient_sk']:d for d in patients}"
   ]
  },
  {
   "cell_type": "code",
   "execution_count": null,
   "metadata": {
    "scrolled": true
   },
   "outputs": [],
   "source": [
    "from tqdm import tqdm_notebook as tqdm\n",
    "\n",
    "res = {}\n",
    "for case_psk in tqdm(list(matching_dict.keys())):\n",
    "    control_psks = matching_dict[case_psk]\n",
    "    case = new_patients[case_psk]\n",
    "    res[case_psk] = (1, data_extraction(case, 1, case['bm_dt']))\n",
    "    for control_psk in control_psks:\n",
    "        control = new_patients[control_psk]\n",
    "        res[control_psk] = (0, data_extraction(control, 0, case['bm_dt']))\n",
    "            \n"
   ]
  },
  {
   "cell_type": "code",
   "execution_count": null,
   "metadata": {},
   "outputs": [],
   "source": [
    "print('Saving data by pickle')\n",
    "\n",
    "with open(os.path.join(OUTPATH, 'data_time_with_label_lab_event_same_hospital.pickle'), 'wb') as f:\n",
    "    pickle.dump(res, f, protocol=pickle.HIGHEST_PROTOCOL)\n",
    "    "
   ]
  },
  {
   "cell_type": "code",
   "execution_count": null,
   "metadata": {},
   "outputs": [],
   "source": []
  }
 ],
 "metadata": {
  "hide_input": false,
  "kernelspec": {
   "display_name": "Python 3",
   "language": "python",
   "name": "python3"
  },
  "language_info": {
   "codemirror_mode": {
    "name": "ipython",
    "version": 3
   },
   "file_extension": ".py",
   "mimetype": "text/x-python",
   "name": "python",
   "nbconvert_exporter": "python",
   "pygments_lexer": "ipython3",
   "version": "3.7.6"
  },
  "toc": {
   "base_numbering": 1,
   "nav_menu": {},
   "number_sections": true,
   "sideBar": true,
   "skip_h1_title": false,
   "title_cell": "Table of Contents",
   "title_sidebar": "Contents",
   "toc_cell": false,
   "toc_position": {},
   "toc_section_display": true,
   "toc_window_display": false
  }
 },
 "nbformat": 4,
 "nbformat_minor": 2
}
