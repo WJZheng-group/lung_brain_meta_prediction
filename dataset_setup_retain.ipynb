{
 "cells": [
  {
   "cell_type": "code",
   "execution_count": null,
   "metadata": {},
   "outputs": [],
   "source": [
    "import numpy as np\n",
    "import pandas as pd\n",
    "import os\n",
    "import time\n",
    "import string\n",
    "import random\n",
    "\n",
    "import pickle"
   ]
  },
  {
   "cell_type": "code",
   "execution_count": null,
   "metadata": {},
   "outputs": [],
   "source": [
    "data_f = '[the output from convert4training]'\n",
    "PATH ='[output path]'"
   ]
  },
  {
   "cell_type": "code",
   "execution_count": null,
   "metadata": {},
   "outputs": [],
   "source": [
    "with open(data_f, 'rb') as f:\n",
    "    data = pickle.load(f)"
   ]
  },
  {
   "cell_type": "code",
   "execution_count": null,
   "metadata": {},
   "outputs": [],
   "source": [
    "seqs = {}\n",
    "labels = {}\n",
    "times = {}\n",
    "for k,v in data.items():\n",
    "    labels[k] = v[0]\n",
    "    seqs[k] = v[1][0]\n",
    "    times[k] = v[1][1]"
   ]
  },
  {
   "cell_type": "markdown",
   "metadata": {},
   "source": [
    "### count case and control numbers"
   ]
  },
  {
   "cell_type": "code",
   "execution_count": null,
   "metadata": {},
   "outputs": [],
   "source": [
    "n_p = 0\n",
    "n_n = 0\n",
    "for k,v in labels.items():\n",
    "    if v == 0:\n",
    "        n_n += 1\n",
    "    if v == 1:\n",
    "        n_p += 1\n",
    "print(n_p)\n",
    "print(n_n)"
   ]
  },
  {
   "cell_type": "markdown",
   "metadata": {},
   "source": [
    "### count number of visits"
   ]
  },
  {
   "cell_type": "code",
   "execution_count": null,
   "metadata": {},
   "outputs": [],
   "source": [
    "n_v_p = []\n",
    "n_v_n = []\n",
    "for k,v in labels.items():\n",
    "    n_v = len(seqs[k])\n",
    "    if v == 0:\n",
    "        n_v_n.append(n_v)\n",
    "    if v == 1:\n",
    "        n_v_p.append(n_v)\n",
    "print(np.mean(n_v_p))\n",
    "print(np.std(n_v_p))\n",
    "\n",
    "print(np.mean(n_v_n))\n",
    "print(np.std(n_v_n))"
   ]
  },
  {
   "cell_type": "markdown",
   "metadata": {},
   "source": [
    "### count number of diagnosis, medication, surgical, labtest and clinical events"
   ]
  },
  {
   "cell_type": "code",
   "execution_count": null,
   "metadata": {},
   "outputs": [],
   "source": [
    "n_med_p = []\n",
    "n_med_n = []\n",
    "for k,v in labels.items():\n",
    "    tmp = 0\n",
    "    for s in seqs[k]:\n",
    "        tmp += np.sum([str(code).startswith('EVENT_') for code in s])\n",
    "    if 1:\n",
    "        if v == 0:\n",
    "            n_med_n.append(tmp)\n",
    "        if v == 1:\n",
    "            n_med_p.append(tmp)\n",
    "print(np.mean(n_med_p))\n",
    "print(np.std(n_med_p))\n",
    "\n",
    "print(np.mean(n_med_n))\n",
    "print(np.std(n_med_n))"
   ]
  },
  {
   "cell_type": "code",
   "execution_count": null,
   "metadata": {},
   "outputs": [],
   "source": [
    "n_dx_p = []\n",
    "n_dx_n = []\n",
    "for k,v in labels.items():\n",
    "    tmp = 0\n",
    "    for s in seqs[k]:\n",
    "        tmp += np.sum([str(code).startswith('_') for code in s])\n",
    "    if 1:\n",
    "        if v == 0:\n",
    "            n_dx_n.append(tmp)\n",
    "        if v == 1:\n",
    "            n_dx_p.append(tmp)\n",
    "print(np.mean(n_dx_p))\n",
    "print(np.std(n_dx_p))\n",
    "\n",
    "print(np.mean(n_dx_n))\n",
    "print(np.std(n_dx_n))"
   ]
  },
  {
   "cell_type": "code",
   "execution_count": null,
   "metadata": {},
   "outputs": [],
   "source": [
    "new_seqs = {}\n",
    "for psk, visits in seqs.items():\n",
    "    new_visits = []\n",
    "    for visit in visits:\n",
    "        agecode = [code for code in visit if str(code).startswith('A_')]\n",
    "        gendercode = [code for code in visit if str(code).startswith('GEND_')]\n",
    "        diags = [code for code in visit if str(code).startswith('DIAG_')]\n",
    "        up_diags = [code.split('.')[0] for code in diags]\n",
    "        new_visit = up_diags + agecode + gendercode\n",
    "        if len(new_visit) >= 1:\n",
    "            new_visits.append(list(set(new_visit)))\n",
    "    new_seqs[psk]=new_visits"
   ]
  },
  {
   "cell_type": "code",
   "execution_count": null,
   "metadata": {},
   "outputs": [],
   "source": [
    "old_seqs = seqs\n",
    "seqs = new_seqs"
   ]
  },
  {
   "cell_type": "code",
   "execution_count": null,
   "metadata": {},
   "outputs": [],
   "source": [
    "### remove samples with only one visit\n",
    "new_labels = {k:labels[k] for k, visits in seqs.items() if len(visits)>=2}"
   ]
  },
  {
   "cell_type": "code",
   "execution_count": null,
   "metadata": {},
   "outputs": [],
   "source": [
    "len(new_labels)"
   ]
  },
  {
   "cell_type": "code",
   "execution_count": null,
   "metadata": {},
   "outputs": [],
   "source": [
    "flat_list = []\n",
    "new_seqs = {}\n",
    "for k, v in new_labels.items():\n",
    "    new_visits = []\n",
    "    for visit in seqs[k]:\n",
    "        uniqs = list(set(visit))\n",
    "        flat_list.extend(uniqs)\n",
    "        new_visits.append(uniqs)\n",
    "    new_seqs[k] = new_visits"
   ]
  },
  {
   "cell_type": "code",
   "execution_count": null,
   "metadata": {},
   "outputs": [],
   "source": [
    "import numpy as np\n",
    "allcodes = np.array(flat_list)\n",
    "unique, counts = np.unique(allcodes, return_counts=True)\n",
    "keys_fre = dict(zip(unique, counts))"
   ]
  },
  {
   "cell_type": "code",
   "execution_count": null,
   "metadata": {},
   "outputs": [],
   "source": [
    "index = 1\n",
    "keys_idx = {}\n",
    "for k, ct in keys_fre.items():\n",
    "    if ct>10:\n",
    "        keys_idx[k] = index\n",
    "        index += 1\n",
    "    else:\n",
    "        keys_idx[k] = 0"
   ]
  },
  {
   "cell_type": "code",
   "execution_count": null,
   "metadata": {},
   "outputs": [],
   "source": [
    "index"
   ]
  },
  {
   "cell_type": "code",
   "execution_count": null,
   "metadata": {},
   "outputs": [],
   "source": [
    "if not os.path.exists(PATH):\n",
    "    os.makedirs(PATH)"
   ]
  },
  {
   "cell_type": "markdown",
   "metadata": {},
   "source": [
    "### split the dataset into training, evaluating and testing sets"
   ]
  },
  {
   "cell_type": "code",
   "execution_count": null,
   "metadata": {},
   "outputs": [],
   "source": [
    "psks = [k for k,v in new_labels.items()]\n",
    "val_ratio = 0.2\n",
    "test_ratio = 0.1\n",
    "val_samples = int(len(psks) * val_ratio)\n",
    "test_samples = int(len(psks) * test_ratio)\n",
    "random.seed( 7747 )\n",
    "random.shuffle(psks)\n",
    "val_psks = psks[0:val_samples]\n",
    "test_psks = psks[val_samples:val_samples+test_samples]\n",
    "train_psks = psks[val_samples+test_samples:]"
   ]
  },
  {
   "cell_type": "code",
   "execution_count": null,
   "metadata": {},
   "outputs": [],
   "source": [
    "def code2idx(visits):\n",
    "    res=[]\n",
    "    for v in visits:\n",
    "        new_v = []\n",
    "        for code in v:\n",
    "            #print(code)\n",
    "            idx = keys_idx.get(code)\n",
    "            if idx is None:\n",
    "                idx = nodes_dict.get('NULL')\n",
    "            new_v.append(idx)\n",
    "        res.append(new_v)\n",
    "    return res"
   ]
  },
  {
   "cell_type": "code",
   "execution_count": null,
   "metadata": {},
   "outputs": [],
   "source": [
    "seqs_valid = [code2idx(new_seqs[psk]) for psk in val_psks]\n",
    "seqs_test = [code2idx(new_seqs[psk]) for psk in test_psks]\n",
    "seqs_train = [code2idx(new_seqs[psk]) for psk in train_psks]"
   ]
  },
  {
   "cell_type": "code",
   "execution_count": null,
   "metadata": {},
   "outputs": [],
   "source": [
    "labels_valid = [new_labels[psk] for psk in val_psks]\n",
    "labels_test = [new_labels[psk] for psk in test_psks]\n",
    "labels_train = [new_labels[psk] for psk in train_psks]"
   ]
  },
  {
   "cell_type": "code",
   "execution_count": null,
   "metadata": {},
   "outputs": [],
   "source": [
    "times_valid = [times[psk] for psk in val_psks]\n",
    "times_test = [times[psk] for psk in test_psks]\n",
    "times_train = [times[psk] for psk in train_psks]"
   ]
  },
  {
   "cell_type": "code",
   "execution_count": null,
   "metadata": {},
   "outputs": [],
   "source": [
    "seqs_all = [code2idx(new_seqs[psk]) for psk in psks]\n",
    "labels_all = [new_labels[psk] for psk in psks]"
   ]
  },
  {
   "cell_type": "code",
   "execution_count": null,
   "metadata": {},
   "outputs": [],
   "source": [
    "TRAINPATH=os.path.join(PATH, 'train.default')\n",
    "if not os.path.exists(TRAINPATH):\n",
    "    os.makedirs(TRAINPATH)"
   ]
  },
  {
   "cell_type": "code",
   "execution_count": null,
   "metadata": {},
   "outputs": [],
   "source": [
    "with open(os.path.join(PATH, 'seqs.valid'), 'wb') as f:\n",
    "    pickle.dump(seqs_valid, f, protocol=2)\n",
    "\n",
    "with open(os.path.join(PATH, 'seqs.test'), 'wb') as f:\n",
    "    pickle.dump(seqs_test, f, protocol=2)\n",
    "with open(os.path.join(TRAINPATH, 'seqs.train'), 'wb') as f:\n",
    "    pickle.dump(seqs_train, f, protocol=2)"
   ]
  },
  {
   "cell_type": "code",
   "execution_count": null,
   "metadata": {},
   "outputs": [],
   "source": [
    "with open(os.path.join(PATH, 'labels.valid'), 'wb') as f:\n",
    "    pickle.dump(labels_valid, f, protocol=2)\n",
    "\n",
    "with open(os.path.join(PATH, 'labels.test'), 'wb') as f:\n",
    "    pickle.dump(labels_test, f, protocol=2)\n",
    "with open(os.path.join(TRAINPATH, 'labels.train'), 'wb') as f:\n",
    "    pickle.dump(labels_train, f, protocol=2)"
   ]
  },
  {
   "cell_type": "code",
   "execution_count": null,
   "metadata": {},
   "outputs": [],
   "source": [
    "with open(os.path.join(PATH, 'times.valid'), 'wb') as f:\n",
    "    pickle.dump(times_valid, f, protocol=2)\n",
    "\n",
    "with open(os.path.join(PATH, 'times.test'), 'wb') as f:\n",
    "    pickle.dump(times_test, f, protocol=2)\n",
    "with open(os.path.join(TRAINPATH, 'times.train'), 'wb') as f:\n",
    "    pickle.dump(times_train, f, protocol=2)"
   ]
  },
  {
   "cell_type": "code",
   "execution_count": null,
   "metadata": {},
   "outputs": [],
   "source": [
    "with open(os.path.join(PATH, 'psk.valid'), 'wb') as f:\n",
    "    pickle.dump(val_psks, f, protocol=2)\n",
    "\n",
    "with open(os.path.join(PATH, 'psk.test'), 'wb') as f:\n",
    "    pickle.dump(test_psks, f, protocol=2)\n",
    "with open(os.path.join(TRAINPATH, 'psk.train'), 'wb') as f:\n",
    "    pickle.dump(train_psks, f, protocol=2)"
   ]
  },
  {
   "cell_type": "code",
   "execution_count": null,
   "metadata": {},
   "outputs": [],
   "source": [
    "with open(os.path.join(PATH, 'seqs.all'), 'wb') as f:\n",
    "    pickle.dump(seqs_all, f, protocol=2)\n",
    "with open(os.path.join(PATH, 'labels.all'), 'wb') as f:\n",
    "    pickle.dump(labels_all, f, protocol=2)\n",
    "with open(os.path.join(PATH, 'psk.all'), 'wb') as f:\n",
    "    pickle.dump(psks, f, protocol=2)\n"
   ]
  },
  {
   "cell_type": "code",
   "execution_count": null,
   "metadata": {},
   "outputs": [],
   "source": [
    "with open(os.path.join(PATH, 'codesize'), 'w') as f:\n",
    "    f.write(f'{index}\\n')"
   ]
  },
  {
   "cell_type": "code",
   "execution_count": null,
   "metadata": {},
   "outputs": [],
   "source": [
    "with open(os.path.join(PATH, 'keys.mapping'), 'wb') as f:\n",
    "          pickle.dump(keys_idx, f, protocol=2)"
   ]
  },
  {
   "cell_type": "markdown",
   "metadata": {},
   "source": [
    "### upsampling the positive samples"
   ]
  },
  {
   "cell_type": "code",
   "execution_count": null,
   "metadata": {},
   "outputs": [],
   "source": [
    "default_TRAINPATH = os.path.join(PATH, 'train.default')\n",
    "with open(os.path.join(default_TRAINPATH, 'psk.train'), 'rb') as f:\n",
    "    train_psks = pickle.load(f)"
   ]
  },
  {
   "cell_type": "code",
   "execution_count": null,
   "metadata": {},
   "outputs": [],
   "source": [
    "p_train_psks = [k for k in train_psks if new_labels[k]==1]\n",
    "n_train_psks = [k for k in train_psks if new_labels[k]==0]\n",
    "print(len(p_train_psks))\n",
    "print(len(n_train_psks))"
   ]
  },
  {
   "cell_type": "code",
   "execution_count": null,
   "metadata": {},
   "outputs": [],
   "source": [
    "n_new_train_psks = n_train_psks"
   ]
  },
  {
   "cell_type": "code",
   "execution_count": null,
   "metadata": {},
   "outputs": [],
   "source": [
    "len(n_new_train_psks)"
   ]
  },
  {
   "cell_type": "code",
   "execution_count": null,
   "metadata": {},
   "outputs": [],
   "source": [
    "new_train_psks = []\n",
    "new_train_psks.extend(p_train_psks)\n",
    "new_train_psks.extend(p_train_psks)\n",
    "new_train_psks.extend(p_train_psks)\n",
    "new_train_psks.extend(p_train_psks)"
   ]
  },
  {
   "cell_type": "code",
   "execution_count": null,
   "metadata": {},
   "outputs": [],
   "source": [
    "len(new_train_psks)"
   ]
  },
  {
   "cell_type": "code",
   "execution_count": null,
   "metadata": {},
   "outputs": [],
   "source": [
    "new_train_psks.extend(n_new_train_psks)"
   ]
  },
  {
   "cell_type": "code",
   "execution_count": null,
   "metadata": {},
   "outputs": [],
   "source": [
    "len(new_train_psks)"
   ]
  },
  {
   "cell_type": "code",
   "execution_count": null,
   "metadata": {},
   "outputs": [],
   "source": [
    "random.seed(7747)\n",
    "random.shuffle(new_train_psks)"
   ]
  },
  {
   "cell_type": "code",
   "execution_count": null,
   "metadata": {},
   "outputs": [],
   "source": [
    "new_seqs_train = [code2idx(new_seqs[psk]) for psk in new_train_psks]"
   ]
  },
  {
   "cell_type": "code",
   "execution_count": null,
   "metadata": {},
   "outputs": [],
   "source": [
    "new_labels_train = [new_labels[psk] for psk in new_train_psks]"
   ]
  },
  {
   "cell_type": "code",
   "execution_count": null,
   "metadata": {},
   "outputs": [],
   "source": [
    "new_times_train = [times[psk] for psk in new_train_psks]"
   ]
  },
  {
   "cell_type": "code",
   "execution_count": null,
   "metadata": {},
   "outputs": [],
   "source": [
    "AUG_TRAINPATH=os.path.join(PATH, 'train.positive_aug_3')\n",
    "if not os.path.exists(AUG_TRAINPATH):\n",
    "    os.makedirs(AUG_TRAINPATH)"
   ]
  },
  {
   "cell_type": "code",
   "execution_count": null,
   "metadata": {},
   "outputs": [],
   "source": [
    "with open(os.path.join(AUG_TRAINPATH, 'seqs.train'), 'wb') as f:\n",
    "    pickle.dump(new_seqs_train, f, protocol=2)"
   ]
  },
  {
   "cell_type": "code",
   "execution_count": null,
   "metadata": {},
   "outputs": [],
   "source": [
    "with open(os.path.join(AUG_TRAINPATH, 'labels.train'), 'wb') as f:\n",
    "    pickle.dump(new_labels_train, f, protocol=2)"
   ]
  },
  {
   "cell_type": "code",
   "execution_count": null,
   "metadata": {},
   "outputs": [],
   "source": [
    "with open(os.path.join(AUG_TRAINPATH, 'times.train'), 'wb') as f:\n",
    "    pickle.dump(new_times_train, f, protocol=2)\n"
   ]
  },
  {
   "cell_type": "code",
   "execution_count": null,
   "metadata": {},
   "outputs": [],
   "source": [
    "with open(os.path.join(AUG_TRAINPATH, 'psk.train'), 'wb') as f:\n",
    "    pickle.dump(new_train_psks, f, protocol=2)"
   ]
  },
  {
   "cell_type": "code",
   "execution_count": null,
   "metadata": {},
   "outputs": [],
   "source": []
  }
 ],
 "metadata": {
  "hide_input": false,
  "kernelspec": {
   "display_name": "Python 3",
   "language": "python",
   "name": "python3"
  },
  "language_info": {
   "codemirror_mode": {
    "name": "ipython",
    "version": 3
   },
   "file_extension": ".py",
   "mimetype": "text/x-python",
   "name": "python",
   "nbconvert_exporter": "python",
   "pygments_lexer": "ipython3",
   "version": "3.7.6"
  },
  "toc": {
   "base_numbering": 1,
   "nav_menu": {},
   "number_sections": true,
   "sideBar": true,
   "skip_h1_title": false,
   "title_cell": "Table of Contents",
   "title_sidebar": "Contents",
   "toc_cell": false,
   "toc_position": {
    "height": "calc(100% - 180px)",
    "left": "10px",
    "top": "150px",
    "width": "165px"
   },
   "toc_section_display": true,
   "toc_window_display": true
  }
 },
 "nbformat": 4,
 "nbformat_minor": 2
}
