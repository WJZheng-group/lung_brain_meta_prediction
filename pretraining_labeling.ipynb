{
 "cells": [
  {
   "cell_type": "code",
   "execution_count": null,
   "metadata": {},
   "outputs": [],
   "source": [
    "import numpy as np\n",
    "import pandas as pd\n",
    "import os\n",
    "import time\n",
    "import pickle\n"
   ]
  },
  {
   "cell_type": "markdown",
   "metadata": {},
   "source": [
    "### define input and output path"
   ]
  },
  {
   "cell_type": "code",
   "execution_count": null,
   "metadata": {},
   "outputs": [],
   "source": [
    "patients_f = '[the output file in the patient2dict]'\n",
    "OUTPATH = '[output directory]'"
   ]
  },
  {
   "cell_type": "code",
   "execution_count": null,
   "metadata": {},
   "outputs": [],
   "source": [
    "import pickle\n",
    "\n",
    "with open(patients_f, 'rb') as f:\n",
    "    patients = pickle.load(f)"
   ]
  },
  {
   "cell_type": "code",
   "execution_count": null,
   "metadata": {},
   "outputs": [],
   "source": [
    "len(patients)"
   ]
  },
  {
   "cell_type": "markdown",
   "metadata": {},
   "source": [
    "### Related diagnoses(lung, BM and BM facts) labeling"
   ]
  },
  {
   "cell_type": "code",
   "execution_count": null,
   "metadata": {},
   "outputs": [],
   "source": [
    "def detect_dischg_disp_code_desc_from_enc(enc, keywords):\n",
    "    desc = str(enc.get('dischg_disp_code_desc')).lower()\n",
    "    for keyword in keywords:\n",
    "        if keyword in desc:\n",
    "            return enc.get('discharged_dt_tm')\n",
    "    return None"
   ]
  },
  {
   "cell_type": "code",
   "execution_count": null,
   "metadata": {},
   "outputs": [],
   "source": [
    "def detect_medication_from_enc(enc, codes):\n",
    "    meds = enc.get('MEDICATION')\n",
    "    if meds is not None:\n",
    "        med_names = [med['generic_name'].upper() for med in meds]\n",
    "        for code in codes:\n",
    "            if any(code in s for s in med_names):\n",
    "                return enc.get('discharged_dt_tm')\n",
    "    return None"
   ]
  },
  {
   "cell_type": "code",
   "execution_count": null,
   "metadata": {},
   "outputs": [],
   "source": [
    "def detect_diag_code_from_enc(enc, codes):\n",
    "    diags = enc.get('DIAGNOSIS')\n",
    "    if diags is not None:\n",
    "        diag_codes = [str(diag['diagnosis_code']).upper() for diag in diags]\n",
    "        for code in codes:\n",
    "            if any(code in s for s in diag_codes):\n",
    "                return enc.get('discharged_dt_tm')\n",
    "    return None"
   ]
  },
  {
   "cell_type": "code",
   "execution_count": null,
   "metadata": {},
   "outputs": [],
   "source": [
    "def detect_hospice_from_enc(enc):\n",
    "    return detect_dischg_disp_code_desc_from_enc(enc, ['hospice'])"
   ]
  },
  {
   "cell_type": "code",
   "execution_count": null,
   "metadata": {},
   "outputs": [],
   "source": [
    "def detect_expired_from_enc(enc):\n",
    "    return detect_dischg_disp_code_desc_from_enc(enc, ['expired'])"
   ]
  },
  {
   "cell_type": "code",
   "execution_count": null,
   "metadata": {},
   "outputs": [],
   "source": [
    "def detect_lung_from_enc(enc):\n",
    "    return detect_diag_code_from_enc(enc, ['162', 'C34'])"
   ]
  },
  {
   "cell_type": "code",
   "execution_count": null,
   "metadata": {},
   "outputs": [],
   "source": [
    "def detect_bm_from_enc(enc):\n",
    "    return detect_diag_code_from_enc(enc, ['198.3', 'C79.3'])"
   ]
  },
  {
   "cell_type": "code",
   "execution_count": null,
   "metadata": {},
   "outputs": [],
   "source": [
    "def detect_bm_facts_from_enc(enc):\n",
    "    diag_dt = detect_diag_code_from_enc(enc\n",
    "                                        , ['191.9', 'C71.9', '348.5', 'G93.6', '239.6', 'D49.6'\n",
    "                                           , '780.39', 'R56.9', 'V10.85', 'Z85.841'])\n",
    "    med_dt = detect_medication_from_enc(enc, ['LEVETIRACETAM', 'PHENYTOIN'])\n",
    "    if diag_dt != None:\n",
    "        if med_dt == None or med_dt > diag_dt:\n",
    "            return diag_dt\n",
    "        else:\n",
    "            return med_dt\n",
    "    return None"
   ]
  },
  {
   "cell_type": "code",
   "execution_count": null,
   "metadata": {
    "scrolled": false
   },
   "outputs": [],
   "source": [
    "### here we label each patient with the first diagnosis time of lung cancer, BM, BM facts, hospice and expired.\n",
    "\n",
    "from tqdm import tqdm_notebook as tqdm\n",
    "\n",
    "for d in tqdm(patients):\n",
    "    encs = d['ENCOUNTER']\n",
    "    lung_dt = None\n",
    "    bm_dt = None\n",
    "    bm_facts_dt = None\n",
    "    hospice_dt = None\n",
    "    expired_dt = None\n",
    "    \n",
    "    for enc in encs:\n",
    "        tmp_lung_dt = detect_lung_from_enc(enc)\n",
    "        tmp_bm_dt = detect_bm_from_enc(enc)\n",
    "        tmp_bm_facts_dt = detect_bm_facts_from_enc(enc)\n",
    "        tmp_hospice_dt = detect_hospice_from_enc(enc)\n",
    "        tmp_expired_dt = detect_expired_from_enc(enc)\n",
    "        \n",
    "        if tmp_bm_dt is not None:\n",
    "            if bm_dt is None:\n",
    "                bm_dt = tmp_bm_dt\n",
    "        \n",
    "        if tmp_lung_dt is not None:\n",
    "            if lung_dt is None:\n",
    "                lung_dt = tmp_lung_dt\n",
    "                \n",
    "        if tmp_bm_facts_dt is not None:\n",
    "            if bm_facts_dt is None:\n",
    "                bm_facts_dt = tmp_bm_facts_dt\n",
    "        \n",
    "        if tmp_hospice_dt is not None:\n",
    "            if hospice_dt is None:\n",
    "                hospice_dt = tmp_hospice_dt\n",
    "                \n",
    "        if tmp_expired_dt is not None:\n",
    "            if hospice_dt is None:\n",
    "                expired_dt = tmp_expired_dt\n",
    "\n",
    "#        if lung_dt and bm_dt:\n",
    "#            break\n",
    "    d['lung_dt'] = lung_dt\n",
    "    d['bm_dt'] = bm_dt\n",
    "    d['bm_facts_dt'] = bm_facts_dt\n",
    "    d['expired_dt'] = expired_dt\n",
    "    d['hospice_dt'] = hospice_dt\n",
    "    d['final_dt'] = encs[-1].get('discharged_dt_tm')\n",
    "    d['first_dt'] = encs[0].get('discharged_dt_tm')"
   ]
  },
  {
   "cell_type": "markdown",
   "metadata": {},
   "source": [
    "### check labeling result"
   ]
  },
  {
   "cell_type": "code",
   "execution_count": null,
   "metadata": {},
   "outputs": [],
   "source": [
    "bm_ct = 0\n",
    "lung_ct = 0\n",
    "trainable_ct = 0\n",
    "for d in patients:\n",
    "    if d['bm_dt'] is not None:\n",
    "        bm_ct += 1\n",
    "        if d['lung_dt'] < d['bm_dt']:\n",
    "            trainable_ct += 1\n",
    "    if d['lung_dt'] is not None:\n",
    "        lung_ct += 1"
   ]
  },
  {
   "cell_type": "code",
   "execution_count": null,
   "metadata": {},
   "outputs": [],
   "source": [
    "print(f'{lung_ct}, {bm_ct}, {trainable_ct}')"
   ]
  },
  {
   "cell_type": "code",
   "execution_count": null,
   "metadata": {},
   "outputs": [],
   "source": [
    "len(patients)"
   ]
  },
  {
   "cell_type": "markdown",
   "metadata": {},
   "source": [
    "### check patients with BM facts before BM diagnosis"
   ]
  },
  {
   "cell_type": "code",
   "execution_count": null,
   "metadata": {},
   "outputs": [],
   "source": [
    "ct = 0\n",
    "\n",
    "for d in patients:\n",
    "    if d['bm_facts_dt'] is not None:\n",
    "        if d['bm_dt'] is None or d['bm_dt'] < d['bm_facts_dt']:\n",
    "            ct += 1\n",
    "            \n",
    "print(ct)"
   ]
  },
  {
   "cell_type": "markdown",
   "metadata": {},
   "source": [
    "### check the expired dt and final dt"
   ]
  },
  {
   "cell_type": "code",
   "execution_count": null,
   "metadata": {},
   "outputs": [],
   "source": [
    "ct = 0\n",
    "\n",
    "for d in patients:\n",
    "    if d['expired_dt'] is not None:\n",
    "        if d['expired_dt'] < d['final_dt']:\n",
    "            ct += 1\n",
    "            \n",
    "print(ct)"
   ]
  },
  {
   "cell_type": "markdown",
   "metadata": {},
   "source": [
    "### check the number of patients whose the final dt is less than 1-year of the Lung cancer dt "
   ]
  },
  {
   "cell_type": "code",
   "execution_count": null,
   "metadata": {},
   "outputs": [],
   "source": [
    "ct = 0\n",
    "\n",
    "for d in patients:\n",
    "    if (d['final_dt'] - d['lung_dt']).days > 365:\n",
    "        if d['bm_dt'] is None or (d['final_dt'] - d['bm_dt']).days > 365*3:\n",
    "            ct += 1\n",
    "            \n",
    "print(ct)"
   ]
  },
  {
   "cell_type": "markdown",
   "metadata": {},
   "source": [
    "### check and label positive patients"
   ]
  },
  {
   "cell_type": "code",
   "execution_count": null,
   "metadata": {},
   "outputs": [],
   "source": [
    "for d in patients:\n",
    "    d['label'] = None"
   ]
  },
  {
   "cell_type": "code",
   "execution_count": null,
   "metadata": {},
   "outputs": [],
   "source": [
    "ct = 0\n",
    "ct_all = 0\n",
    "for d in patients:\n",
    "    if d['bm_dt']:\n",
    "        ct_all += 1\n",
    "        interval = (d['bm_dt'] - d['lung_dt']).days\n",
    "        #if  interval >= 90 and interval <= 365*5:\n",
    "        if  interval >= 90:\n",
    "            if d['bm_facts_dt'] is None or d['bm_dt'] < d['bm_facts_dt']:\n",
    "                tmp_ct = 0\n",
    "                for enc in d['ENCOUNTER']:\n",
    "                    if enc['discharged_dt_tm'] < d['bm_dt']:\n",
    "                        tmp_ct += 1\n",
    "                if tmp_ct > 1:\n",
    "                    ct += 1\n",
    "                    d['label'] = 1    \n",
    "print(ct)\n",
    "print(ct_all)"
   ]
  },
  {
   "cell_type": "markdown",
   "metadata": {},
   "source": [
    "### check and label negative patients (control for prediction within a follow-up period)"
   ]
  },
  {
   "cell_type": "code",
   "execution_count": null,
   "metadata": {},
   "outputs": [],
   "source": [
    "ct = 0\n",
    "timewindow = 365 * 5\n",
    "for d in patients:\n",
    "        interval = (d['final_dt'] - d['lung_dt']).days\n",
    "        if  interval >= timewindow:\n",
    "            if d['hospice_dt'] is None or (d['hospice_dt'] - d['lung_dt']).days >= timewindow:\n",
    "                if d['expired_dt'] is None or (d['expired_dt'] - d['lung_dt']).days >= timewindow:\n",
    "                    if d['bm_dt'] is None or (d['bm_dt'] - d['lung_dt']).days >= timewindow:\n",
    "                        if d['bm_facts_dt'] is None or (d['bm_facts_dt'] - d['lung_dt']).days >= timewindow:\n",
    "                            ct += 1\n",
    "                            d['label'] = 0\n",
    "\n",
    "print(ct)"
   ]
  },
  {
   "cell_type": "markdown",
   "metadata": {},
   "source": [
    "### check and label negative patients (control for prediction in the whole period)"
   ]
  },
  {
   "cell_type": "code",
   "execution_count": null,
   "metadata": {},
   "outputs": [],
   "source": [
    "ct = 0\n",
    "timewindow = 365*1\n",
    "for d in patients:\n",
    "        interval = (d['final_dt'] - d['lung_dt']).days\n",
    "        if  interval >= timewindow:\n",
    "            if d['bm_dt'] is None and d['bm_facts_dt'] is None:\n",
    "                if d['hospice_dt'] is None:\n",
    "                    ct += 1\n",
    "                    d['label'] = 0   ### candidate control list\n",
    "\n",
    "print(ct)"
   ]
  },
  {
   "cell_type": "code",
   "execution_count": null,
   "metadata": {},
   "outputs": [],
   "source": [
    "new_patients = [d for d in patients if d['label'] in [0, 1]]"
   ]
  },
  {
   "cell_type": "code",
   "execution_count": null,
   "metadata": {},
   "outputs": [],
   "source": [
    "len(new_patients)"
   ]
  },
  {
   "cell_type": "code",
   "execution_count": null,
   "metadata": {},
   "outputs": [],
   "source": [
    "print('Saving data by pickle')\n",
    "\n",
    "with open(os.path.join(OUTPATH, 'patients_with_label.pickle'), 'wb') as f:\n",
    "    pickle.dump(new_patients, f, protocol=pickle.HIGHEST_PROTOCOL)"
   ]
  },
  {
   "cell_type": "code",
   "execution_count": null,
   "metadata": {},
   "outputs": [],
   "source": []
  }
 ],
 "metadata": {
  "hide_input": false,
  "kernelspec": {
   "display_name": "Python 3",
   "language": "python",
   "name": "python3"
  },
  "language_info": {
   "codemirror_mode": {
    "name": "ipython",
    "version": 3
   },
   "file_extension": ".py",
   "mimetype": "text/x-python",
   "name": "python",
   "nbconvert_exporter": "python",
   "pygments_lexer": "ipython3",
   "version": "3.7.6"
  },
  "toc": {
   "base_numbering": 1,
   "nav_menu": {},
   "number_sections": true,
   "sideBar": true,
   "skip_h1_title": false,
   "title_cell": "Table of Contents",
   "title_sidebar": "Contents",
   "toc_cell": false,
   "toc_position": {},
   "toc_section_display": true,
   "toc_window_display": false
  }
 },
 "nbformat": 4,
 "nbformat_minor": 2
}
