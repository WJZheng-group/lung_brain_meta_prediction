{
 "cells": [
  {
   "cell_type": "code",
   "execution_count": null,
   "metadata": {},
   "outputs": [],
   "source": [
    "import numpy as np\n",
    "import pandas as pd\n",
    "import os\n",
    "import time\n",
    "import string\n",
    "from tqdm import tqdm_notebook as tqdm\n"
   ]
  },
  {
   "cell_type": "markdown",
   "metadata": {},
   "source": [
    "### define input and output directory"
   ]
  },
  {
   "cell_type": "code",
   "execution_count": null,
   "metadata": {},
   "outputs": [],
   "source": [
    "patients_f = '[the output from pretraining_labeling.py]'\n",
    "OUTPATH = '[output directory]'"
   ]
  },
  {
   "cell_type": "code",
   "execution_count": null,
   "metadata": {},
   "outputs": [],
   "source": [
    "import pickle\n",
    "\n",
    "with open(patients_f, 'rb') as f:\n",
    "    patients = pickle.load(f)"
   ]
  },
  {
   "cell_type": "code",
   "execution_count": null,
   "metadata": {},
   "outputs": [],
   "source": [
    "len(patients)"
   ]
  },
  {
   "cell_type": "code",
   "execution_count": null,
   "metadata": {},
   "outputs": [],
   "source": [
    "psk_hospit_f = '[the file containg the mapping of patient sk and the hispotal ID]'\n",
    "psk_hospit_df = pd.read_csv(psk_hospit_f, sep='\\t')"
   ]
  },
  {
   "cell_type": "code",
   "execution_count": null,
   "metadata": {},
   "outputs": [],
   "source": [
    "psk_hospit_dict = {}\n",
    "for idx, row in psk_hospit_df.iterrows():\n",
    "    psk_hospit_dict[row['patient_sk']] = row['hospital_id']"
   ]
  },
  {
   "cell_type": "code",
   "execution_count": null,
   "metadata": {},
   "outputs": [],
   "source": [
    "p_patients_factors = {}\n",
    "n_patients_factors = {}\n",
    "\n",
    "for d in patients:\n",
    "    factors = {}\n",
    "    factors['yob'] = d['yob']\n",
    "    factors['gender'] = d['gender']\n",
    "    factors['race'] = d['race']\n",
    "    factors['lung_dt'] = d['lung_dt']\n",
    "    factors['first_dt'] = d['first_dt']\n",
    "    factors['final_dt'] = d['final_dt']\n",
    "    factors['hospitalid'] = psk_hospit_dict[d['patient_sk']]\n",
    "    if d['label'] == 0:\n",
    "        n_patients_factors[d['patient_sk']] = factors\n",
    "    elif d['label'] == 1:\n",
    "        factors['bm_dt'] = d['bm_dt']\n",
    "        p_patients_factors[d['patient_sk']] = factors"
   ]
  },
  {
   "cell_type": "code",
   "execution_count": null,
   "metadata": {},
   "outputs": [],
   "source": [
    "len(p_patients_factors)"
   ]
  },
  {
   "cell_type": "code",
   "execution_count": null,
   "metadata": {},
   "outputs": [],
   "source": [
    "match_dict = {}\n",
    "for k in tqdm(list(p_patients_factors.keys())):\n",
    "    #print(k)\n",
    "    v = p_patients_factors[k]\n",
    "    #print(v)\n",
    "    if len(n_patients_factors) == 0:\n",
    "        print('Candidate control list null!')\n",
    "        break\n",
    "    matched_psk = []\n",
    "    for k1, v1 in n_patients_factors.items():\n",
    "        ### hospital match\n",
    "        if v['hospitalid'] != v1['hospitalid']:\n",
    "            continue\n",
    "        ### gender match\n",
    "        if v['gender'] != v1['gender']:\n",
    "            continue\n",
    "        ### race match\n",
    "        if v['race'] != v1['race']:\n",
    "            continue\n",
    "        ### yob match\n",
    "        if abs(v['yob'] - v1['yob']) > 5:\n",
    "            continue\n",
    "        ### lung_dt match\n",
    "        if abs((v['lung_dt'] - v1['lung_dt']).days) > 180:\n",
    "            continue\n",
    "        ### final visit dt match\n",
    "        if (v['bm_dt'] - v1['final_dt']).days > 30:\n",
    "            continue\n",
    "        ### first visit dt match\n",
    "        if v1['lung_dt']  == v1['first_dt']:\n",
    "            continue\n",
    "        ### have visits before lung_dt\n",
    "        if abs((v['first_dt'] - v1['first_dt']).days) > 365:\n",
    "            continue\n",
    "        \n",
    "        matched_psk.append(k1)\n",
    "        if len(matched_psk) >= 10:\n",
    "            break\n",
    "    for tmp_sk in matched_psk:\n",
    "        n_patients_factors.pop(tmp_sk)\n",
    "    #print(f'{len(matched_psk)} control(s) matched for case {k}')\n",
    "    if len(matched_psk) > 0:\n",
    "        match_dict[k] = matched_psk"
   ]
  },
  {
   "cell_type": "code",
   "execution_count": null,
   "metadata": {},
   "outputs": [],
   "source": [
    "matched_ct = 0\n",
    "matched_n_ct = 0\n",
    "for k,v in match_dict.items():\n",
    "    n_matched = len(v)\n",
    "    if n_matched > 0:\n",
    "        matched_ct += 1\n",
    "        matched_n_ct += n_matched\n",
    "print(matched_ct)\n",
    "print(len(p_patients_factors))\n",
    "print(matched_n_ct)\n",
    "print(matched_n_ct / matched_ct)"
   ]
  },
  {
   "cell_type": "code",
   "execution_count": null,
   "metadata": {},
   "outputs": [],
   "source": [
    "print('Saving data by pickle')\n",
    "with open(os.path.join(OUTPATH, 'matching_dict_same_hospital.pickle'), 'wb') as f:\n",
    "    pickle.dump(match_dict, f, protocol=pickle.HIGHEST_PROTOCOL)\n",
    "    "
   ]
  },
  {
   "cell_type": "code",
   "execution_count": null,
   "metadata": {},
   "outputs": [],
   "source": []
  }
 ],
 "metadata": {
  "hide_input": false,
  "kernelspec": {
   "display_name": "Python 3",
   "language": "python",
   "name": "python3"
  },
  "language_info": {
   "codemirror_mode": {
    "name": "ipython",
    "version": 3
   },
   "file_extension": ".py",
   "mimetype": "text/x-python",
   "name": "python",
   "nbconvert_exporter": "python",
   "pygments_lexer": "ipython3",
   "version": "3.7.6"
  },
  "toc": {
   "base_numbering": 1,
   "nav_menu": {},
   "number_sections": true,
   "sideBar": true,
   "skip_h1_title": false,
   "title_cell": "Table of Contents",
   "title_sidebar": "Contents",
   "toc_cell": false,
   "toc_position": {},
   "toc_section_display": true,
   "toc_window_display": false
  }
 },
 "nbformat": 4,
 "nbformat_minor": 2
}
